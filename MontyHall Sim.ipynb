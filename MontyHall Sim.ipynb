{
 "cells": [
  {
   "cell_type": "markdown",
   "metadata": {},
   "source": [
    "### Exercises"
   ]
  },
  {
   "cell_type": "code",
   "execution_count": 1,
   "metadata": {},
   "outputs": [],
   "source": [
    "import numpy as np"
   ]
  },
  {
   "cell_type": "code",
   "execution_count": 2,
   "metadata": {},
   "outputs": [
    {
     "data": {
      "text/plain": [
       "array([[0.85918688, 0.30205207, 0.81445851, 0.14344062],\n",
       "       [0.83957866, 0.65364746, 0.39171783, 0.92738311],\n",
       "       [0.11996219, 0.77148236, 0.37329794, 0.38967974]])"
      ]
     },
     "execution_count": 2,
     "metadata": {},
     "output_type": "execute_result"
    }
   ],
   "source": [
    "x = np.random.random((3, 4))\n",
    "x"
   ]
  },
  {
   "cell_type": "markdown",
   "metadata": {},
   "source": [
    "Print max, min and mean of array, with numpy. \n",
    "Use axis=0 in order to move by cols, axis=1 to move by rows."
   ]
  },
  {
   "cell_type": "code",
   "execution_count": 3,
   "metadata": {},
   "outputs": [
    {
     "data": {
      "text/plain": [
       "0.9273831123903264"
      ]
     },
     "execution_count": 3,
     "metadata": {},
     "output_type": "execute_result"
    }
   ],
   "source": [
    "x.max()"
   ]
  },
  {
   "cell_type": "code",
   "execution_count": 4,
   "metadata": {},
   "outputs": [
    {
     "data": {
      "text/plain": [
       "0.11996219361423821"
      ]
     },
     "execution_count": 4,
     "metadata": {},
     "output_type": "execute_result"
    }
   ],
   "source": [
    "x.min()"
   ]
  },
  {
   "cell_type": "code",
   "execution_count": 5,
   "metadata": {},
   "outputs": [
    {
     "data": {
      "text/plain": [
       "0.5488239478506217"
      ]
     },
     "execution_count": 5,
     "metadata": {},
     "output_type": "execute_result"
    }
   ],
   "source": [
    "x.mean()"
   ]
  },
  {
   "cell_type": "code",
   "execution_count": 6,
   "metadata": {},
   "outputs": [
    {
     "data": {
      "text/plain": [
       "array([0.85918688, 0.77148236, 0.81445851, 0.92738311])"
      ]
     },
     "execution_count": 6,
     "metadata": {},
     "output_type": "execute_result"
    }
   ],
   "source": [
    "x.max(axis=0)"
   ]
  },
  {
   "cell_type": "code",
   "execution_count": 7,
   "metadata": {},
   "outputs": [
    {
     "data": {
      "text/plain": [
       "array([0.85918688, 0.92738311, 0.77148236])"
      ]
     },
     "execution_count": 7,
     "metadata": {},
     "output_type": "execute_result"
    }
   ],
   "source": [
    "x.max(axis=1)"
   ]
  },
  {
   "cell_type": "markdown",
   "metadata": {},
   "source": [
    "500 coin toss simulations:"
   ]
  },
  {
   "cell_type": "code",
   "execution_count": 11,
   "metadata": {},
   "outputs": [
    {
     "name": "stdout",
     "output_type": "stream",
     "text": [
      "number of heads: 245\n"
     ]
    }
   ],
   "source": [
    "x = np.random.binomial(500, .5)\n",
    "print(\"number of heads:\", x)"
   ]
  },
  {
   "cell_type": "markdown",
   "metadata": {},
   "source": [
    "Repeat coin toss simulation 500 times, and plot n. of heads."
   ]
  },
  {
   "cell_type": "code",
   "execution_count": 14,
   "metadata": {},
   "outputs": [
    {
     "data": {
      "text/plain": [
       "[246, 265, 258, 262, 238]"
      ]
     },
     "execution_count": 14,
     "metadata": {},
     "output_type": "execute_result"
    }
   ],
   "source": [
    "n_heads = []\n",
    "for i in range(500):\n",
    "    n_heads.append(np.random.binomial(500, .5))\n",
    "n_heads[:5]"
   ]
  },
  {
   "cell_type": "code",
   "execution_count": 15,
   "metadata": {},
   "outputs": [
    {
     "data": {
      "image/png": "[encoded data removed]",
      "text/plain": [
       "<Figure size 432x288 with 1 Axes>"
      ]
     },
     "metadata": {},
     "output_type": "display_data"
    }
   ],
   "source": [
    "import matplotlib.pyplot as plt  \n",
    "%matplotlib inline \n",
    "\n",
    "plt.hist(n_heads)\n",
    "plt.show()"
   ]
  },
  {
   "cell_type": "markdown",
   "metadata": {},
   "source": [
    "### Monty Hall Problem simulation"
   ]
  },
  {
   "cell_type": "code",
   "execution_count": 57,
   "metadata": {},
   "outputs": [
    {
     "data": {
      "text/plain": [
       "[0, 2, 0, 0, 1, 1, 1, 2, 1, 2]"
      ]
     },
     "execution_count": 57,
     "metadata": {},
     "output_type": "execute_result"
    }
   ],
   "source": [
    "# this function simulates the winning prize position, for nsim simulations\n",
    "def simulate_prizedoors(nsim):\n",
    "    answer = []\n",
    "    for i in range(nsim):\n",
    "        answer.append(np.random.randint(0,3))\n",
    "    return answer\n",
    "\n",
    "simulate_prizedoor(10)"
   ]
  },
  {
   "cell_type": "code",
   "execution_count": 58,
   "metadata": {},
   "outputs": [
    {
     "data": {
      "text/plain": [
       "[1, 1, 1, 0, 1, 0, 2, 2, 2, 1]"
      ]
     },
     "execution_count": 58,
     "metadata": {},
     "output_type": "execute_result"
    }
   ],
   "source": [
    "# this function simulates the guessed position, for nsim simulations\n",
    "def simulate_guesses(nsim):\n",
    "    guess = []\n",
    "    for i in range(nsim):\n",
    "        guess.append(np.random.randint(0,3))\n",
    "    return guess\n",
    "\n",
    "simulate_guesses(10)"
   ]
  },
  {
   "cell_type": "code",
   "execution_count": 59,
   "metadata": {},
   "outputs": [
    {
     "data": {
      "text/plain": [
       "[1, 1, 0, 1, 1, 1, 2, 0, 2, 1]"
      ]
     },
     "execution_count": 59,
     "metadata": {},
     "output_type": "execute_result"
    }
   ],
   "source": [
    "# this function simulates the pick of a door, which is not prizedoor or guess\n",
    "def goat_doors(prizedoors, guesses):\n",
    "    nsim = len(prizedoors)\n",
    "    goatdoor = []\n",
    "    \n",
    "    for i in range(nsim):\n",
    "        not_intersect = list(set([0,1,2]) ^ set([prizedoors[i], guesses[i]])) # finds not intersection\n",
    "        goatdoor.append(not_intersect[0]) # pick first avaiable door\n",
    "    return goatdoor\n",
    "\n",
    "goat_doors(simulate_prizedoors(10), simulate_guesses(10))"
   ]
  },
  {
   "cell_type": "code",
   "execution_count": 60,
   "metadata": {},
   "outputs": [
    {
     "data": {
      "text/plain": [
       "[0, 1, 2, 1, 1, 2, 0, 2, 0, 0]"
      ]
     },
     "execution_count": 60,
     "metadata": {},
     "output_type": "execute_result"
    }
   ],
   "source": [
    "# this function simulates the pick of a second door, which is not guess or opened goat door\n",
    "def switch_guess(guesses, goatdoor):\n",
    "    nsim = len(guesses)\n",
    "    newguess = []\n",
    "    \n",
    "    for i in range(nsim):\n",
    "        not_intersect = list(set([0,1,2]) ^ set([guesses[i], goatdoor[i]])) # finds not intersection\n",
    "        newguess.append(not_intersect[0]) # pick first avaiable door\n",
    "    return newguess\n",
    "\n",
    "switch_guess(simulate_guesses(10), goat_doors(simulate_prizedoors(10), simulate_guesses(10)))"
   ]
  },
  {
   "cell_type": "code",
   "execution_count": 61,
   "metadata": {},
   "outputs": [
    {
     "data": {
      "text/plain": [
       "33.33333333333333"
      ]
     },
     "execution_count": 61,
     "metadata": {},
     "output_type": "execute_result"
    }
   ],
   "source": [
    "# this function gets the percentage of wins, in nsim simulations\n",
    "def win_percentage(guesses, prizedoors):\n",
    "    nsim = len(guesses)\n",
    "    win_count = 0\n",
    "    for i in range(nsim):\n",
    "        if guesses[i] == prizedoors[i]:\n",
    "            win_count += 1\n",
    "    return win_count/nsim * 100\n",
    "\n",
    "win_percentage(np.array([0, 1, 2]), np.array([0, 0, 0]))"
   ]
  },
  {
   "cell_type": "code",
   "execution_count": 66,
   "metadata": {},
   "outputs": [
    {
     "name": "stdout",
     "output_type": "stream",
     "text": [
      "Percentage of wins without changing door:  33.589999999999996\n",
      "Percentage of wins with switching door:  66.41\n"
     ]
    }
   ],
   "source": [
    "nsim  = 10000 \n",
    "# two strategies: 1-keeps the door picked, 2-switches the door picked\n",
    "guesses = simulate_guesses(nsim)\n",
    "prizedoors = simulate_prizedoors(nsim)\n",
    "secondguesses = switch_guess(guesses, goat_doors(prizedoors, guesses))\n",
    "\n",
    "keep_first_door = win_percentage(guesses, prizedoors)\n",
    "\n",
    "switch_first_door = win_percentage(secondguesses, prizedoors)\n",
    "\n",
    "print(\"Percentage of wins without changing door: \", keep_first_door)\n",
    "print(\"Percentage of wins with switching door: \", switch_first_door)"
   ]
  },
  {
   "cell_type": "markdown",
   "metadata": {},
   "source": [
    "Has expected the percentage of wins when you switch door is indeed higher."
   ]
  },
  {
   "cell_type": "code",
   "execution_count": null,
   "metadata": {},
   "outputs": [],
   "source": []
  }
 ],
 "metadata": {
  "kernelspec": {
   "display_name": "Python 3",
   "language": "python",
   "name": "python3"
  },
  "language_info": {
   "codemirror_mode": {
    "name": "ipython",
    "version": 3
   },
   "file_extension": ".py",
   "mimetype": "text/x-python",
   "name": "python",
   "nbconvert_exporter": "python",
   "pygments_lexer": "ipython3",
   "version": "3.6.5"
  }
 },
 "nbformat": 4,
 "nbformat_minor": 2
}
